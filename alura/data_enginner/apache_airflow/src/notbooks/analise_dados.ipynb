{
 "cells": [
  {
   "cell_type": "code",
   "execution_count": 12,
   "metadata": {},
   "outputs": [
    {
     "name": "stdout",
     "output_type": "stream",
     "text": [
      "Requirement already satisfied: pandas in /home/joao-santos/Desktop/academic_projects/alura/data_enginner/apache_airflow/apache_airflow_venv/lib/python3.12/site-packages (2.2.3)\n",
      "Requirement already satisfied: matplotlib in /home/joao-santos/Desktop/academic_projects/alura/data_enginner/apache_airflow/apache_airflow_venv/lib/python3.12/site-packages (3.9.2)\n",
      "Requirement already satisfied: numpy>=1.26.0 in /home/joao-santos/Desktop/academic_projects/alura/data_enginner/apache_airflow/apache_airflow_venv/lib/python3.12/site-packages (from pandas) (2.1.2)\n",
      "Requirement already satisfied: python-dateutil>=2.8.2 in /home/joao-santos/Desktop/academic_projects/alura/data_enginner/apache_airflow/apache_airflow_venv/lib/python3.12/site-packages (from pandas) (2.9.0.post0)\n",
      "Requirement already satisfied: pytz>=2020.1 in /home/joao-santos/Desktop/academic_projects/alura/data_enginner/apache_airflow/apache_airflow_venv/lib/python3.12/site-packages (from pandas) (2024.2)\n",
      "Requirement already satisfied: tzdata>=2022.7 in /home/joao-santos/Desktop/academic_projects/alura/data_enginner/apache_airflow/apache_airflow_venv/lib/python3.12/site-packages (from pandas) (2024.2)\n",
      "Requirement already satisfied: contourpy>=1.0.1 in /home/joao-santos/Desktop/academic_projects/alura/data_enginner/apache_airflow/apache_airflow_venv/lib/python3.12/site-packages (from matplotlib) (1.3.0)\n",
      "Requirement already satisfied: cycler>=0.10 in /home/joao-santos/Desktop/academic_projects/alura/data_enginner/apache_airflow/apache_airflow_venv/lib/python3.12/site-packages (from matplotlib) (0.12.1)\n",
      "Requirement already satisfied: fonttools>=4.22.0 in /home/joao-santos/Desktop/academic_projects/alura/data_enginner/apache_airflow/apache_airflow_venv/lib/python3.12/site-packages (from matplotlib) (4.54.1)\n",
      "Requirement already satisfied: kiwisolver>=1.3.1 in /home/joao-santos/Desktop/academic_projects/alura/data_enginner/apache_airflow/apache_airflow_venv/lib/python3.12/site-packages (from matplotlib) (1.4.7)\n",
      "Requirement already satisfied: packaging>=20.0 in /home/joao-santos/Desktop/academic_projects/alura/data_enginner/apache_airflow/apache_airflow_venv/lib/python3.12/site-packages (from matplotlib) (24.1)\n",
      "Requirement already satisfied: pillow>=8 in /home/joao-santos/Desktop/academic_projects/alura/data_enginner/apache_airflow/apache_airflow_venv/lib/python3.12/site-packages (from matplotlib) (10.4.0)\n",
      "Requirement already satisfied: pyparsing>=2.3.1 in /home/joao-santos/Desktop/academic_projects/alura/data_enginner/apache_airflow/apache_airflow_venv/lib/python3.12/site-packages (from matplotlib) (3.1.4)\n",
      "Requirement already satisfied: six>=1.5 in /home/joao-santos/Desktop/academic_projects/alura/data_enginner/apache_airflow/apache_airflow_venv/lib/python3.12/site-packages (from python-dateutil>=2.8.2->pandas) (1.16.0)\n"
     ]
    }
   ],
   "source": [
    "! pip install pandas matplotlib"
   ]
  },
  {
   "cell_type": "code",
   "execution_count": 13,
   "metadata": {},
   "outputs": [],
   "source": [
    "import pandas as pd"
   ]
  },
  {
   "cell_type": "code",
   "execution_count": 14,
   "metadata": {},
   "outputs": [],
   "source": [
    "df = pd.read_json(\"/home/joao-santos/Desktop/academic_projects/alura/data_enginner/apache_airflow/datalake/Gold/twitter_datascience/process_date=2024-10-04/part-00000-24e1268d-1636-41b6-92a2-58f8996337e0-c000.json\", lines=True)\n"
   ]
  },
  {
   "cell_type": "code",
   "execution_count": 15,
   "metadata": {},
   "outputs": [
    {
     "data": {
      "text/html": [
       "<div>\n",
       "<style scoped>\n",
       "    .dataframe tbody tr th:only-of-type {\n",
       "        vertical-align: middle;\n",
       "    }\n",
       "\n",
       "    .dataframe tbody tr th {\n",
       "        vertical-align: top;\n",
       "    }\n",
       "\n",
       "    .dataframe thead th {\n",
       "        text-align: right;\n",
       "    }\n",
       "</style>\n",
       "<table border=\"1\" class=\"dataframe\">\n",
       "  <thead>\n",
       "    <tr style=\"text-align: right;\">\n",
       "      <th></th>\n",
       "      <th>created_date</th>\n",
       "      <th>n_tweets</th>\n",
       "      <th>n_like</th>\n",
       "      <th>n_quote</th>\n",
       "      <th>n_reply</th>\n",
       "      <th>n_retweet</th>\n",
       "      <th>weekday</th>\n",
       "    </tr>\n",
       "  </thead>\n",
       "  <tbody>\n",
       "    <tr>\n",
       "      <th>0</th>\n",
       "      <td>2024-10-02</td>\n",
       "      <td>18</td>\n",
       "      <td>987</td>\n",
       "      <td>953</td>\n",
       "      <td>1069</td>\n",
       "      <td>863</td>\n",
       "      <td>Wed</td>\n",
       "    </tr>\n",
       "    <tr>\n",
       "      <th>1</th>\n",
       "      <td>2024-10-04</td>\n",
       "      <td>7</td>\n",
       "      <td>618</td>\n",
       "      <td>446</td>\n",
       "      <td>532</td>\n",
       "      <td>350</td>\n",
       "      <td>Fri</td>\n",
       "    </tr>\n",
       "    <tr>\n",
       "      <th>2</th>\n",
       "      <td>2024-10-05</td>\n",
       "      <td>19</td>\n",
       "      <td>1190</td>\n",
       "      <td>778</td>\n",
       "      <td>988</td>\n",
       "      <td>637</td>\n",
       "      <td>Sat</td>\n",
       "    </tr>\n",
       "    <tr>\n",
       "      <th>3</th>\n",
       "      <td>2024-10-03</td>\n",
       "      <td>18</td>\n",
       "      <td>885</td>\n",
       "      <td>979</td>\n",
       "      <td>1029</td>\n",
       "      <td>964</td>\n",
       "      <td>Thu</td>\n",
       "    </tr>\n",
       "  </tbody>\n",
       "</table>\n",
       "</div>"
      ],
      "text/plain": [
       "  created_date  n_tweets  n_like  n_quote  n_reply  n_retweet weekday\n",
       "0   2024-10-02        18     987      953     1069        863     Wed\n",
       "1   2024-10-04         7     618      446      532        350     Fri\n",
       "2   2024-10-05        19    1190      778      988        637     Sat\n",
       "3   2024-10-03        18     885      979     1029        964     Thu"
      ]
     },
     "execution_count": 15,
     "metadata": {},
     "output_type": "execute_result"
    }
   ],
   "source": [
    "df.head()"
   ]
  },
  {
   "cell_type": "code",
   "execution_count": 16,
   "metadata": {},
   "outputs": [],
   "source": [
    "df.created_date = pd.to_datetime(df.created_date)"
   ]
  },
  {
   "cell_type": "code",
   "execution_count": 19,
   "metadata": {},
   "outputs": [
    {
     "data": {
      "text/plain": [
       "<Axes: xlabel='weekday'>"
      ]
     },
     "execution_count": 19,
     "metadata": {},
     "output_type": "execute_result"
    },
    {
     "data": {
      "image/png": "[encoded data removed]",
      "text/plain": [
       "<Figure size 640x480 with 1 Axes>"
      ]
     },
     "metadata": {},
     "output_type": "display_data"
    }
   ],
   "source": [
    "df.groupby(\"weekday\")[[\"n_tweets\", \"n_like\", \"n_quote\", \"n_reply\"]].sum().reset_index().plot(kind=\"bar\", x=\"weekday\", y=[\"n_tweets\", \"n_like\", \"n_quote\", \"n_reply\"])"
   ]
  },
  {
   "cell_type": "code",
   "execution_count": null,
   "metadata": {},
   "outputs": [],
   "source": []
  }
 ],
 "metadata": {
  "kernelspec": {
   "display_name": "apache_airflow_venv",
   "language": "python",
   "name": "python3"
  },
  "language_info": {
   "codemirror_mode": {
    "name": "ipython",
    "version": 3
   },
   "file_extension": ".py",
   "mimetype": "text/x-python",
   "name": "python",
   "nbconvert_exporter": "python",
   "pygments_lexer": "ipython3",
   "version": "3.12.2"
  }
 },
 "nbformat": 4,
 "nbformat_minor": 2
}
