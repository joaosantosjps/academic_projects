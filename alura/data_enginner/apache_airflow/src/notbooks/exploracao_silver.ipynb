{
 "cells": [
  {
   "cell_type": "code",
   "execution_count": 36,
   "metadata": {},
   "outputs": [],
   "source": [
    "from pyspark.sql import SparkSession"
   ]
  },
  {
   "cell_type": "code",
   "execution_count": 37,
   "metadata": {},
   "outputs": [],
   "source": [
    "spark = SparkSession\\\n",
    "    .builder\\\n",
    "    .appName(\"twitter_silver\")\\\n",
    "    .getOrCreate()"
   ]
  },
  {
   "cell_type": "code",
   "execution_count": 38,
   "metadata": {},
   "outputs": [],
   "source": [
    "df_tweet = spark.read.json(\"/home/joao-santos/Desktop/academic_projects/alura/data_enginner/apache_airflow/datalake/silver/twitter_datascience/tweet\")"
   ]
  },
  {
   "cell_type": "code",
   "execution_count": 39,
   "metadata": {},
   "outputs": [
    {
     "name": "stdout",
     "output_type": "stream",
     "text": [
      "root\n",
      " |-- author_id: string (nullable = true)\n",
      " |-- conversation_id: string (nullable = true)\n",
      " |-- created_at: string (nullable = true)\n",
      " |-- id: string (nullable = true)\n",
      " |-- like_count: long (nullable = true)\n",
      " |-- quote_count: long (nullable = true)\n",
      " |-- reply_count: long (nullable = true)\n",
      " |-- retweet_count: long (nullable = true)\n",
      " |-- text: string (nullable = true)\n",
      " |-- process_date: date (nullable = true)\n",
      "\n"
     ]
    }
   ],
   "source": [
    "df_tweet.printSchema()"
   ]
  },
  {
   "cell_type": "code",
   "execution_count": 40,
   "metadata": {},
   "outputs": [],
   "source": [
    "from pyspark.sql import functions as f"
   ]
  },
  {
   "cell_type": "code",
   "execution_count": 41,
   "metadata": {},
   "outputs": [],
   "source": [
    "tweet_conversas = df_tweet.alias(\"tweet\")\\\n",
    "        .groupBy(f.to_date(\"created_at\").alias(\"created_date\"))\\\n",
    "        .agg(\n",
    "            f.countDistinct(\"author_id\").alias(\"n_tweets\"),\n",
    "            f.sum(\"like_count\").alias(\"n_like\"),\n",
    "            f.sum(\"quote_count\").alias(\"n_quote\"),\n",
    "            f.sum(\"reply_count\").alias(\"n_reply\"),\n",
    "            f.sum(\"retweet_count\").alias(\"n_retweet\")\n",
    "        ).withColumn(\"weekday\", f.date_format(\"created_date\", \"E\"))"
   ]
  },
  {
   "cell_type": "code",
   "execution_count": 42,
   "metadata": {},
   "outputs": [
    {
     "name": "stdout",
     "output_type": "stream",
     "text": [
      "+------------+--------+------+-------+-------+---------+-------+\n",
      "|created_date|n_tweets|n_like|n_quote|n_reply|n_retweet|weekday|\n",
      "+------------+--------+------+-------+-------+---------+-------+\n",
      "|  2024-10-02|       8|  3186|   2970|   2022|     3510|    Wed|\n",
      "|  2024-10-04|      27|  7510|   7405|   7585|     5670|    Fri|\n",
      "|  2024-10-07|      10|  1302|    950|    748|     1058|    Mon|\n",
      "|  2024-10-05|      34|  8380|   7300|   8064|     7484|    Sat|\n",
      "|  2024-10-03|      19|  5016|   5280|   6264|     6762|    Thu|\n",
      "|  2024-10-06|      17|  1732|   1898|   2514|     2520|    Sun|\n",
      "+------------+--------+------+-------+-------+---------+-------+\n",
      "\n"
     ]
    }
   ],
   "source": [
    "tweet_conversas.show()"
   ]
  },
  {
   "cell_type": "code",
   "execution_count": null,
   "metadata": {},
   "outputs": [],
   "source": []
  }
 ],
 "metadata": {
  "kernelspec": {
   "display_name": "apache_airflow_venv",
   "language": "python",
   "name": "python3"
  },
  "language_info": {
   "codemirror_mode": {
    "name": "ipython",
    "version": 3
   },
   "file_extension": ".py",
   "mimetype": "text/x-python",
   "name": "python",
   "nbconvert_exporter": "python",
   "pygments_lexer": "ipython3",
   "version": "3.12.2"
  }
 },
 "nbformat": 4,
 "nbformat_minor": 2
}
