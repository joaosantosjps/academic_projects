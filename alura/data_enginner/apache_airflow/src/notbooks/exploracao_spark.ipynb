{
 "cells": [
  {
   "cell_type": "code",
   "execution_count": 2,
   "metadata": {},
   "outputs": [],
   "source": [
    "from pyspark.sql import SparkSession"
   ]
  },
  {
   "cell_type": "code",
   "execution_count": 3,
   "metadata": {},
   "outputs": [
    {
     "name": "stderr",
     "output_type": "stream",
     "text": [
      "24/10/07 19:41:04 WARN Utils: Your hostname, joao-santos-desktop resolves to a loopback address: 127.0.1.1; using 192.168.1.70 instead (on interface wlp7s0)\n",
      "24/10/07 19:41:04 WARN Utils: Set SPARK_LOCAL_IP if you need to bind to another address\n",
      "Setting default log level to \"WARN\".\n",
      "To adjust logging level use sc.setLogLevel(newLevel). For SparkR, use setLogLevel(newLevel).\n",
      "24/10/07 19:41:04 WARN NativeCodeLoader: Unable to load native-hadoop library for your platform... using builtin-java classes where applicable\n"
     ]
    }
   ],
   "source": [
    "spark = SparkSession\\\n",
    "    .builder\\\n",
    "    .appName(\"twitter_transformation\")\\\n",
    "    .getOrCreate()"
   ]
  },
  {
   "cell_type": "code",
   "execution_count": 4,
   "metadata": {},
   "outputs": [
    {
     "name": "stderr",
     "output_type": "stream",
     "text": [
      "                                                                                \r"
     ]
    }
   ],
   "source": [
    "df = spark.read.json(\"../../datalake/twitter_datascience\")"
   ]
  },
  {
   "cell_type": "code",
   "execution_count": 5,
   "metadata": {},
   "outputs": [
    {
     "name": "stdout",
     "output_type": "stream",
     "text": [
      "+--------------------+--------------------+--------------------+------------+\n",
      "|                data|            includes|                meta|extract_date|\n",
      "+--------------------+--------------------+--------------------+------------+\n",
      "|[{146822630164340...|{[{2021-12-07T14:...|{1597742169376579...|  2022-11-29|\n",
      "|[{935446829730291...|{[{2017-11-28T09:...|{1597741505149808...|  2022-11-29|\n",
      "|[{140333728412517...|{[{2021-06-11T13:...|{1597741130573123...|  2022-11-29|\n",
      "|[{131725596376263...|{[{2020-10-17T00:...|{1597740187773435...|  2022-11-29|\n",
      "|[{942496609434292...|{[{2017-12-17T20:...|{1597739801792348...|  2022-11-29|\n",
      "|[{190097582, 1597...|{[{2010-09-13T02:...|{1597739085149270...|  2022-11-29|\n",
      "|[{156528072615680...|{[{2022-09-01T10:...|{1597738629081743...|  2022-11-29|\n",
      "|[{145057394, 1597...|{[{2010-05-18T01:...|{1597738485531934...|  2022-11-29|\n",
      "|[{17977727, 15977...|{[{2008-12-08T23:...|{1597737850904416...|  2022-11-29|\n",
      "|[{19664316, 15977...|{[{2009-01-28T17:...|{1597737492081512...|  2022-11-29|\n",
      "|[{146822630164340...|{[{2021-12-07T14:...|{1597742169376579...|  2022-11-29|\n",
      "|[{935446829730291...|{[{2017-11-28T09:...|{1597741505149808...|  2022-11-29|\n",
      "|[{140333728412517...|{[{2021-06-11T13:...|{1597741130573123...|  2022-11-29|\n",
      "|[{131725596376263...|{[{2020-10-17T00:...|{1597740187773435...|  2022-11-29|\n",
      "|[{942496609434292...|{[{2017-12-17T20:...|{1597739801792348...|  2022-11-29|\n",
      "|[{190097582, 1597...|{[{2010-09-13T02:...|{1597739085149270...|  2022-11-29|\n",
      "|[{156528072615680...|{[{2022-09-01T10:...|{1597738629081743...|  2022-11-29|\n",
      "|[{145057394, 1597...|{[{2010-05-18T01:...|{1597738485531934...|  2022-11-29|\n",
      "|[{17977727, 15977...|{[{2008-12-08T23:...|{1597737850904416...|  2022-11-29|\n",
      "|[{19664316, 15977...|{[{2009-01-28T17:...|{1597737492081512...|  2022-11-29|\n",
      "+--------------------+--------------------+--------------------+------------+\n",
      "only showing top 20 rows\n",
      "\n"
     ]
    }
   ],
   "source": [
    "df.show()"
   ]
  },
  {
   "cell_type": "code",
   "execution_count": 6,
   "metadata": {},
   "outputs": [
    {
     "name": "stdout",
     "output_type": "stream",
     "text": [
      "root\n",
      " |-- data: array (nullable = true)\n",
      " |    |-- element: struct (containsNull = true)\n",
      " |    |    |-- author_id: string (nullable = true)\n",
      " |    |    |-- conversation_id: string (nullable = true)\n",
      " |    |    |-- created_at: string (nullable = true)\n",
      " |    |    |-- edit_history_tweet_ids: array (nullable = true)\n",
      " |    |    |    |-- element: string (containsNull = true)\n",
      " |    |    |-- id: string (nullable = true)\n",
      " |    |    |-- in_reply_to_user_id: string (nullable = true)\n",
      " |    |    |-- lang: string (nullable = true)\n",
      " |    |    |-- public_metrics: struct (nullable = true)\n",
      " |    |    |    |-- like_count: long (nullable = true)\n",
      " |    |    |    |-- quote_count: long (nullable = true)\n",
      " |    |    |    |-- reply_count: long (nullable = true)\n",
      " |    |    |    |-- retweet_count: long (nullable = true)\n",
      " |    |    |-- text: string (nullable = true)\n",
      " |-- includes: struct (nullable = true)\n",
      " |    |-- users: array (nullable = true)\n",
      " |    |    |-- element: struct (containsNull = true)\n",
      " |    |    |    |-- created_at: string (nullable = true)\n",
      " |    |    |    |-- id: string (nullable = true)\n",
      " |    |    |    |-- name: string (nullable = true)\n",
      " |    |    |    |-- username: string (nullable = true)\n",
      " |-- meta: struct (nullable = true)\n",
      " |    |-- newest_id: string (nullable = true)\n",
      " |    |-- next_token: string (nullable = true)\n",
      " |    |-- oldest_id: string (nullable = true)\n",
      " |    |-- result_count: long (nullable = true)\n",
      " |-- extract_date: date (nullable = true)\n",
      "\n"
     ]
    }
   ],
   "source": [
    "df.printSchema()"
   ]
  },
  {
   "cell_type": "code",
   "execution_count": 8,
   "metadata": {},
   "outputs": [],
   "source": [
    "from pyspark.sql import functions as f"
   ]
  },
  {
   "cell_type": "code",
   "execution_count": 9,
   "metadata": {},
   "outputs": [
    {
     "name": "stdout",
     "output_type": "stream",
     "text": [
      "root\n",
      " |-- col: struct (nullable = true)\n",
      " |    |-- author_id: string (nullable = true)\n",
      " |    |-- conversation_id: string (nullable = true)\n",
      " |    |-- created_at: string (nullable = true)\n",
      " |    |-- edit_history_tweet_ids: array (nullable = true)\n",
      " |    |    |-- element: string (containsNull = true)\n",
      " |    |-- id: string (nullable = true)\n",
      " |    |-- in_reply_to_user_id: string (nullable = true)\n",
      " |    |-- lang: string (nullable = true)\n",
      " |    |-- public_metrics: struct (nullable = true)\n",
      " |    |    |-- like_count: long (nullable = true)\n",
      " |    |    |-- quote_count: long (nullable = true)\n",
      " |    |    |-- reply_count: long (nullable = true)\n",
      " |    |    |-- retweet_count: long (nullable = true)\n",
      " |    |-- text: string (nullable = true)\n",
      "\n"
     ]
    }
   ],
   "source": [
    "df.select(f.explode(\"data\")).printSchema()"
   ]
  },
  {
   "cell_type": "code",
   "execution_count": 10,
   "metadata": {},
   "outputs": [
    {
     "name": "stdout",
     "output_type": "stream",
     "text": [
      "+--------------------+\n",
      "|                 col|\n",
      "+--------------------+\n",
      "|{1468226301643403...|\n",
      "|{8193148897894932...|\n",
      "|{1317255963762634...|\n",
      "|{1497937787181363...|\n",
      "|{1468226301643403...|\n",
      "|{1468226301643403...|\n",
      "|{1220990287234969...|\n",
      "|{1459140443954978...|\n",
      "|{25204382, 159774...|\n",
      "|{1011817655957893...|\n",
      "|{9354468297302917...|\n",
      "|{190097582, 15977...|\n",
      "|{9354468297302917...|\n",
      "|{142255858, 15977...|\n",
      "|{1142424032794406...|\n",
      "|{7101237361757839...|\n",
      "|{2415478665, 1597...|\n",
      "|{44894396, 159774...|\n",
      "|{190097582, 15977...|\n",
      "|{9354468297302917...|\n",
      "+--------------------+\n",
      "only showing top 20 rows\n",
      "\n"
     ]
    }
   ],
   "source": [
    "df.select(f.explode(\"data\")).show()"
   ]
  },
  {
   "cell_type": "code",
   "execution_count": 11,
   "metadata": {},
   "outputs": [
    {
     "name": "stdout",
     "output_type": "stream",
     "text": [
      "root\n",
      " |-- author_id: string (nullable = true)\n",
      " |-- conversation_id: string (nullable = true)\n",
      " |-- created_at: string (nullable = true)\n",
      " |-- id: string (nullable = true)\n",
      " |-- like_count: long (nullable = true)\n",
      " |-- quote_count: long (nullable = true)\n",
      " |-- reply_count: long (nullable = true)\n",
      " |-- retweet_count: long (nullable = true)\n",
      " |-- text: string (nullable = true)\n",
      "\n"
     ]
    }
   ],
   "source": [
    "df.select(f.explode(\"data\").alias(\"tweets\"))\\\n",
    ".select(\"tweets.author_id\", \"tweets.conversation_id\",\n",
    "        \"tweets.created_at\", \"tweets.id\",\n",
    "        \"tweets.public_metrics.*\", \"tweets.text\").printSchema()"
   ]
  },
  {
   "cell_type": "code",
   "execution_count": 12,
   "metadata": {},
   "outputs": [],
   "source": [
    "tweet_df = df.select(f.explode(\"data\").alias(\"tweets\"))\\\n",
    ".select(\"tweets.author_id\", \"tweets.conversation_id\",\n",
    "        \"tweets.created_at\", \"tweets.id\",\n",
    "        \"tweets.public_metrics.*\", \"tweets.text\")"
   ]
  },
  {
   "cell_type": "code",
   "execution_count": 13,
   "metadata": {},
   "outputs": [
    {
     "name": "stdout",
     "output_type": "stream",
     "text": [
      "+-------------------+-------------------+--------------------+-------------------+----------+-----------+-----------+-------------+--------------------+\n",
      "|          author_id|    conversation_id|          created_at|                 id|like_count|quote_count|reply_count|retweet_count|                text|\n",
      "+-------------------+-------------------+--------------------+-------------------+----------+-----------+-----------+-------------+--------------------+\n",
      "|1468226301643403271|1597742169376579584|2022-11-29T23:59:...|1597742169376579584|         0|          0|          0|           98|RT @ratingology: ...|\n",
      "| 819314889789493248|1597742113441341441|2022-11-29T23:59:...|1597742113441341441|         0|          0|          0|            2|RT @Datascience__...|\n",
      "|1317255963762634752|1597742042284978176|2022-11-29T23:59:...|1597742042284978176|         0|          0|          0|            1|RT @genericgranol...|\n",
      "|1497937787181363202|1597742024555274242|2022-11-29T23:59:...|1597742024555274242|         0|          0|          0|           40|RT @KirkDBorne: P...|\n",
      "|1468226301643403271|1597741964002471937|2022-11-29T23:59:...|1597741964002471937|         0|          0|          0|          129|RT @ratingology: ...|\n",
      "+-------------------+-------------------+--------------------+-------------------+----------+-----------+-----------+-------------+--------------------+\n",
      "only showing top 5 rows\n",
      "\n"
     ]
    }
   ],
   "source": [
    "tweet_df.show(5)"
   ]
  },
  {
   "cell_type": "code",
   "execution_count": 17,
   "metadata": {},
   "outputs": [
    {
     "name": "stdout",
     "output_type": "stream",
     "text": [
      "root\n",
      " |-- created_at: string (nullable = true)\n",
      " |-- id: string (nullable = true)\n",
      " |-- name: string (nullable = true)\n",
      " |-- username: string (nullable = true)\n",
      "\n"
     ]
    }
   ],
   "source": [
    "df.select(f.explode(\"includes.users\").alias(\"users\")).select(\"users.*\").printSchema()"
   ]
  },
  {
   "cell_type": "code",
   "execution_count": 18,
   "metadata": {},
   "outputs": [],
   "source": [
    "user_df = df.select(f.explode(\"includes.users\").alias(\"users\")).select(\"users.*\")"
   ]
  },
  {
   "cell_type": "code",
   "execution_count": 19,
   "metadata": {},
   "outputs": [
    {
     "name": "stdout",
     "output_type": "stream",
     "text": [
      "+--------------------+-------------------+--------------------+--------------+\n",
      "|          created_at|                 id|                name|      username|\n",
      "+--------------------+-------------------+--------------------+--------------+\n",
      "|2021-12-07T14:30:...|1468226301643403271|        Rakesh Kumar|      kasavsam|\n",
      "|2017-01-11T22:47:...| 819314889789493248|Parody Aaron Sciv...|  Eintsein1980|\n",
      "|2020-10-17T00:08:...|1317255963762634752|            Omua Mua|4constellation|\n",
      "|2022-02-27T14:13:...|1497937787181363202|       MarkKelvin_44| MarkKelvin_44|\n",
      "|2020-01-25T08:42:...|1220990287234969600|      micopia.online| micopiaonline|\n",
      "+--------------------+-------------------+--------------------+--------------+\n",
      "only showing top 5 rows\n",
      "\n"
     ]
    }
   ],
   "source": [
    "user_df.show(5)"
   ]
  },
  {
   "cell_type": "code",
   "execution_count": 20,
   "metadata": {},
   "outputs": [],
   "source": [
    "tweet_df.coalesce(1).write.mode(\"overwrite\").json(\"output/tweet\")\n",
    "user_df.coalesce(1).write.mode(\"overwrite\").json(\"output/user\")\n"
   ]
  },
  {
   "cell_type": "code",
   "execution_count": null,
   "metadata": {},
   "outputs": [],
   "source": []
  }
 ],
 "metadata": {
  "kernelspec": {
   "display_name": "apache_airflow_venv",
   "language": "python",
   "name": "python3"
  },
  "language_info": {
   "codemirror_mode": {
    "name": "ipython",
    "version": 3
   },
   "file_extension": ".py",
   "mimetype": "text/x-python",
   "name": "python",
   "nbconvert_exporter": "python",
   "pygments_lexer": "ipython3",
   "version": "3.12.2"
  }
 },
 "nbformat": 4,
 "nbformat_minor": 2
}
